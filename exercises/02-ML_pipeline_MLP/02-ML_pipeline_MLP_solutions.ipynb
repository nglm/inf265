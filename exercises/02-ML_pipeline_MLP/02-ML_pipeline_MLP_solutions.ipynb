{
 "cells": [
  {
   "attachments": {},
   "cell_type": "markdown",
   "metadata": {},
   "source": [
    "# Machine learning pipeline and MNIST\n",
    "\n",
    "## Contents\n",
    "\n",
    "1. Loading data\n",
    "2. Preprocessing\n",
    "3. Building different models\n",
    "4. Training models\n",
    "5. Model selection\n",
    "6. Model evaluation\n",
    "\n",
    "**Objectives:**\n",
    "\n",
    "1. Put into practice what you have learned with the tutorials\n",
    "1. Get familiar with the MNIST dataset\n",
    "1. Build a classic machine learning pipeline that includes the following steps:\n",
    "    - Loading data\n",
    "    - Preprocessing data\n",
    "    - Building different models\n",
    "    - Training models\n",
    "    - Selecting the best model\n",
    "    - Evaluating the best model\n",
    "    \n",
    "Of course, in reality, there are more intermediate steps and the pipeline looks more like an iterative process than a straight line, but after completing this notebook you should already have a good understanding of the machine learning pipeline and how to implement it in pytorch. :) \n",
    "\n",
    "**Andrew's videos related to this notebook**\n",
    "\n",
    "If you are struggling with some concepts when completing this notebook, you can (re-)watch the following videos: \n",
    "\n",
    "- About train/validation/test datasets:\n",
    "    - [Train/Dev/Test Sets (C2W1L01)](https://www.youtube.com/watch?v=1waHlpKiNyY&list=PLkDaE6sCZn6Hn0vK8co82zjQtt3T2Nkqc&index=2)\n",
    "    - [Train/Dev/Test Set Distributions (C3W1L05)](https://www.youtube.com/watch?v=M3qpIzy4MQk&list=PLkDaE6sCZn6E7jZ9sN_xHwSHOdjUxUW_b&index=6)\n",
    "    - [Sizeof Dev and Test Sets (C3W1L06)](https://www.youtube.com/watch?v=_Fe5kKmFieg&list=PLkDaE6sCZn6E7jZ9sN_xHwSHOdjUxUW_b&index=7)\n",
    "- About the machine learning pipeline and model Performance:\n",
    "    - [Bias/Variance (C2W1L02)](https://www.youtube.com/watch?v=SjQyLhQIXSM&list=PLkDaE6sCZn6Hn0vK8co82zjQtt3T2Nkqc&index=3)\n",
    "    - [Basic Recipe for Machine Learning (C2W1L03)](https://www.youtube.com/watch?v=C1N_PDHuJ6Q&list=PLkDaE6sCZn6Hn0vK8co82zjQtt3T2Nkqc&index=4)\n",
    "    - [Avoidable Bias (C3W1L09)](https://www.youtube.com/watch?v=CZf3oo0fuh0&list=PLkDaE6sCZn6E7jZ9sN_xHwSHOdjUxUW_b&index=10)\n",
    "    - [Improving Model Performance (C3W1L12)](https://www.youtube.com/watch?v=zg26t-BH7ao&list=PLkDaE6sCZn6E7jZ9sN_xHwSHOdjUxUW_b&index=13)\n",
    "    \n"
   ]
  },
  {
   "cell_type": "code",
   "execution_count": 1,
   "metadata": {},
   "outputs": [
    {
     "data": {
      "text/plain": [
       "<torch._C.Generator at 0x7fcd2a9eb7b0>"
      ]
     },
     "execution_count": 1,
     "metadata": {},
     "output_type": "execute_result"
    }
   ],
   "source": [
    "import torch\n",
    "import torch.nn as nn\n",
    "import torch.nn.functional as F\n",
    "from torchvision import datasets, transforms\n",
    "import torch.optim as optim\n",
    "from datetime import datetime\n",
    "import matplotlib.pyplot as plt\n",
    "import numpy as np\n",
    "from torch.utils.data import random_split\n",
    "from collections import Counter\n",
    "\n",
    "torch.manual_seed(123)"
   ]
  },
  {
   "cell_type": "markdown",
   "metadata": {},
   "source": [
    "## 1. Loading data\n",
    "\n",
    "In this notebook, we will use the MNIST dataset, a large dataset of black and white images of handwritten digits.\n",
    "\n",
    "**TODO**\n",
    "\n",
    "Write a ``load_MNIST`` function that:\n",
    "1. Loads the MNIST dataset (see [torchvision.datasets.MNIST](https://pytorch.org/vision/stable/datasets.html#mnist))\n",
    "2. Splits the dataset into 3: training, validation and test datasets\n",
    "3. Returns the 3 datasets\n",
    "\n",
    "**Hints**\n",
    "\n",
    "You can adapt the ``load_cifar`` function written in the beginning of the 2nd and 3rd tutorials. (and all steps of this function are detailed in the 1st tutorial, \"1.1 Loading the CIFAR dataset in Pytorch\") "
   ]
  },
  {
   "cell_type": "code",
   "execution_count": 2,
   "metadata": {},
   "outputs": [
    {
     "name": "stdout",
     "output_type": "stream",
     "text": [
      "Size of the train dataset:         54000\n",
      "Size of the validation dataset:    6000\n",
      "Size of the test dataset:          10000\n"
     ]
    }
   ],
   "source": [
    "def load_MNIST(train_val_split=0.9, data_path='../data/', preprocessor=None):\n",
    "    \n",
    "    # load datasets\n",
    "    data_train_val = datasets.MNIST(\n",
    "        data_path,       \n",
    "        train=True,      \n",
    "        download=True,\n",
    "        transform=preprocessor)\n",
    "\n",
    "    data_test = datasets.MNIST(\n",
    "        data_path, \n",
    "        train=False,\n",
    "        download=True,\n",
    "        transform=preprocessor)\n",
    "\n",
    "    # train/validation split\n",
    "    n_train = int(len(data_train_val)*train_val_split)\n",
    "    n_val =  len(data_train_val) - n_train\n",
    "\n",
    "    data_train, data_val = random_split(\n",
    "        data_train_val, \n",
    "        [n_train, n_val],\n",
    "        generator=torch.Generator().manual_seed(123)\n",
    "    )\n",
    "\n",
    "    print(\"Size of the train dataset:        \", len(data_train))\n",
    "    print(\"Size of the validation dataset:   \", len(data_val))\n",
    "    print(\"Size of the test dataset:         \", len(data_test))\n",
    "    \n",
    "    return (data_train, data_val, data_test)\n",
    "\n",
    "data_train, data_val, data_test = load_MNIST()\n"
   ]
  },
  {
   "cell_type": "markdown",
   "metadata": {},
   "source": [
    "#### Plot one instance of each class\n",
    "\n",
    "**TODO**\n",
    "\n",
    "Plot once instance of each class.\n",
    "\n",
    "**Hints**\n",
    "\n",
    "- You can adapt the corresponding code from the 1st tutorial, \"1.3 Plot images\".\n",
    "- You can use ``cmap='gray'`` when calling [ax.imshow](https://matplotlib.org/stable/api/_as_gen/matplotlib.axes.Axes.imshow.html?highlight=imshow#matplotlib.axes.Axes.imshow) in order to get black and white images."
   ]
  },
  {
   "cell_type": "code",
   "execution_count": 3,
   "metadata": {},
   "outputs": [
    {
     "data": {
      "image/png": "[encoded data removed]",
      "text/plain": [
       "<Figure size 800x300 with 10 Axes>"
      ]
     },
     "metadata": {},
     "output_type": "display_data"
    }
   ],
   "source": [
    "# One fig with 2*5 subplots\n",
    "fig, axes = plt.subplots(nrows=2, ncols=5, figsize=(8,3))\n",
    "for i, ax in enumerate(axes.flat):\n",
    "    # Find an image in the dataset with the right label\n",
    "    img = next(img for img, label in data_train if label == i)\n",
    "    # Plot image\n",
    "    ax.imshow(img, cmap='gray')\n",
    "    # Add title\n",
    "    ax.set_title(i)\n",
    "    # Remove ticks\n",
    "    ax.axis('off')\n",
    "\n",
    "plt.show()"
   ]
  },
  {
   "cell_type": "markdown",
   "metadata": {},
   "source": [
    "#### Count the number of elements for each class\n",
    "\n",
    "**TODO**\n",
    "\n",
    "1. Count the number of elements for each class in each of the 3 datasets. \n",
    "2. Does the dataset seem balanced?\n",
    "\n",
    "**Hints**\n",
    "\n",
    "You can adapt the corresponding code from the 1st tutorial, \"1.4 Count how many samples there are for each class\""
   ]
  },
  {
   "cell_type": "code",
   "execution_count": 4,
   "metadata": {},
   "outputs": [
    {
     "name": "stdout",
     "output_type": "stream",
     "text": [
      " -------  train  ------- \n",
      "Counter({1: 6075, 7: 5644, 3: 5522, 2: 5365, 9: 5358, 0: 5345, 6: 5310, 8: 5249, 4: 5243, 5: 4889})\n",
      " -------  val  ------- \n",
      "Counter({1: 667, 7: 621, 3: 609, 6: 608, 8: 602, 4: 599, 2: 593, 9: 591, 0: 578, 5: 532})\n",
      " -------  test  ------- \n",
      "Counter({1: 1135, 2: 1032, 7: 1028, 3: 1010, 9: 1009, 4: 982, 0: 980, 8: 974, 6: 958, 5: 892})\n"
     ]
    }
   ],
   "source": [
    "for data_name, data in zip(['train', 'val', 'test'], [data_train, data_val, data_test]):\n",
    "    print(\" ------- \", data_name, \" ------- \")\n",
    "    print(Counter([label for _, label in data]))\n",
    "    "
   ]
  },
  {
   "cell_type": "markdown",
   "metadata": {},
   "source": [
    "## 2. Preprocessing\n",
    "\n",
    "The preprocessing step typically comes *after* loading the data, but as we saw in the tutorials, the preprocessor can be passed as a parameter of the loading function in Pytorch. \n",
    "\n",
    "#### TODO\n",
    "\n",
    "1. Compute the mean and the standard deviation of the training dataset. Note that contrary to the cifar dataset, the MNIST dataset contains only black and white images, so there is only one channel left. The mean and standard deviation should then be a scalar and not a tensor of 3 elements.\n",
    "1. Re-load your 3 datasets, now including a preprocessor that:\n",
    "    1. Crop the images from 28x28 to 24x24 (see [transforms.CenterCrop](https://pytorch.org/vision/stable/transforms.html#torchvision.transforms.CenterCrop))\n",
    "    2. Convert images to tensors (see [transforms.ToTensorp](https://pytorch.org/vision/stable/transforms.html#torchvision.transforms.ToTensor))\n",
    "    3. Normalize the dataset using the computed mean and standard deviation (see [transforms.Normalize](https://pytorch.org/vision/stable/transforms.html#torchvision.transforms.Normalize))\n",
    "    \n",
    "**Hints**\n",
    "- You can adapt the corresponding code from the 1st tutorial. \"2. Transforms\"\n",
    "- Use [transforms.Compose](https://pytorch.org/vision/stable/transforms.html#torchvision.transforms.Compose) to define your preprocessor as a combination of your transforms"
   ]
  },
  {
   "cell_type": "code",
   "execution_count": 5,
   "metadata": {},
   "outputs": [
    {
     "name": "stdout",
     "output_type": "stream",
     "text": [
      "torch.Size([54000, 1, 28, 28])\n",
      "Mean:  tensor(0.1306) std:  tensor(0.3080)\n"
     ]
    }
   ],
   "source": [
    "imgs = torch.stack([transforms.functional.to_tensor(img) for img, _ in data_train])\n",
    "print(imgs.shape)\n",
    "# Instanciate a normalize transform \n",
    "# using the mean and standard deviation of our dataset\n",
    "#\n",
    "# The shape is '(54000, 1, 28, 28)' and we want the mean/std\n",
    "# of the only RBG channel so of the entire tensor\n",
    "mean = imgs.mean()\n",
    "std = imgs.std()\n",
    "normalizer = transforms.Normalize(mean, std)\n",
    "print(\"Mean: \", mean, \"std: \", std)"
   ]
  },
  {
   "cell_type": "code",
   "execution_count": 6,
   "metadata": {},
   "outputs": [
    {
     "name": "stdout",
     "output_type": "stream",
     "text": [
      "Size of the train dataset:         54000\n",
      "Size of the validation dataset:    6000\n",
      "Size of the test dataset:          10000\n"
     ]
    }
   ],
   "source": [
    "mnist_preprocessor = transforms.Compose([\n",
    "            transforms.CenterCrop(24),\n",
    "            transforms.ToTensor(),\n",
    "            normalizer,\n",
    "        ])\n",
    "data_train, data_val, data_test = load_MNIST(preprocessor=mnist_preprocessor)"
   ]
  },
  {
   "cell_type": "markdown",
   "metadata": {},
   "source": [
    "## 3. Building different models\n",
    "\n",
    "**TODO**\n",
    "\n",
    "Define 2 (or 3) neural networks by writing classes inheriting the ``nn.Module`` class.\n",
    "\n",
    "**Hints**\n",
    "\n",
    "- See the 3rd tutorial, \"2.2 Using the functional API\"\n",
    "- 2-3 layers are enough, otherwise the training will take too long if you don't have a gpu.\n",
    "- Use only linear layers [nn.Linear](https://pytorch.org/docs/stable/generated/torch.nn.Linear.html#torch.nn.Linear), (and potentially non-trainable layers such as [F.max_pool2d](https://pytorch.org/docs/stable/generated/torch.nn.functional.max_pool2d.html?highlight=max_pool#torch.nn.functional.max_pool2d) or [torch.flatten](https://pytorch.org/docs/stable/generated/torch.flatten.html#torch.flatten)) we will study the other types of layers later on this semester.\n",
    "- Remember that we don't need a softmax function in the output layer if we use [nn.CrossEntropyLoss](https://pytorch.org/docs/stable/generated/torch.nn.CrossEntropyLoss.html?highlight=crossentro#torch.nn.CrossEntropyLoss) as the loss function\n"
   ]
  },
  {
   "cell_type": "code",
   "execution_count": 7,
   "metadata": {},
   "outputs": [],
   "source": [
    "class MyNet01(nn.Module):\n",
    "    def __init__(self):\n",
    "        super().__init__()\n",
    "        self.fc1 = nn.Linear(24*24, 64)\n",
    "        self.fc2 = nn.Linear(64, 10)\n",
    "    def forward(self, x):\n",
    "        out = torch.flatten(x, 1)\n",
    "        out = torch.relu(self.fc1(out))\n",
    "        out = self.fc2(out)\n",
    "        return out\n",
    "\n",
    "class MyNet02(nn.Module):\n",
    "    def __init__(self):\n",
    "        super().__init__()\n",
    "        self.fc1 = nn.Linear(24//2 * 24//2, 64)\n",
    "        self.fc2 = nn.Linear(64, 10)\n",
    "        \n",
    "    def forward(self, x):\n",
    "        out = torch.flatten(F.max_pool2d(x, 2), 1)\n",
    "        out = torch.relu(self.fc1(out))\n",
    "        out = self.fc2(out)\n",
    "        return out\n"
   ]
  },
  {
   "cell_type": "markdown",
   "metadata": {},
   "source": [
    "## 4. Training models\n",
    "\n",
    "**TODO**  \n",
    "Write a function ``train`` that \n",
    "- Trains the model for ``n`` epochs (complete passes through the training dataset)\n",
    "- Computes and stores the training loss and the validation loss for each epoch\n",
    "- Returns the list of training and validation losses\n",
    "\n",
    "**Hints**\n",
    "- You can find how to train and compute the training loss in the the ``train`` function in the tutorials. However, you need to modify this function in order to return the validation loss as well.\n",
    "- Use [mode.train()](https://pytorch.org/docs/stable/generated/torch.nn.Module.html#torch.nn.Module.train) and [model.eval()](https://pytorch.org/docs/stable/generated/torch.nn.Module.html#torch.nn.Module.eval) correctly (see ``train`` and ``compute_accuracy`` in the tutorials)\n",
    "- Use \"with [torch.no_grad()](https://pytorch.org/docs/stable/generated/torch.no_grad.html#torch.no_grad):\" correctly (see ``compute_accuracy`` in the tutorials)\n",
    "- Don't backpropagate the loss when computing validation loss (see ``compute_accuracy`` in the tutorials)\n",
    "- Don't update weights when computing validation loss (see ``compute_accuracy`` in the tutorials)\n",
    "- Here, we want the validation loss, not the accuracy on the validation dataset.\n",
    "- Both ``train`` and ``compute_accuracy`` are written at the beginning of the 3rd tutorial, with detailed explanation in the 2nd tutorial."
   ]
  },
  {
   "cell_type": "code",
   "execution_count": 8,
   "metadata": {},
   "outputs": [],
   "source": [
    "def train(n_epochs, optimizer, model, loss_fn, train_loader, val_loader, device=None):\n",
    "    if device is None:\n",
    "        device = (\n",
    "            torch.device('cuda') if torch.cuda.is_available()\n",
    "            else torch.device('cpu'))\n",
    "    print(f\"Training on device {device}.\")\n",
    "    \n",
    "    #model.train() moved inside loop!\n",
    "    optimizer.zero_grad(set_to_none=True)\n",
    "    \n",
    "    n_batch_train = len(train_loader)\n",
    "    n_batch_val = len(val_loader)\n",
    "    \n",
    "    losses_train = []\n",
    "    losses_val = []\n",
    "    \n",
    "    for epoch in range(1, n_epochs + 1):\n",
    "        \n",
    "        # Train model and compute training loss\n",
    "        model.train()\n",
    "        loss_train = 0.0\n",
    "        for imgs, labels in train_loader:\n",
    "\n",
    "            imgs = imgs.to(device=device) \n",
    "            labels = labels.to(device=device)\n",
    "\n",
    "            outputs = model(imgs)\n",
    "            \n",
    "            loss = loss_fn(outputs, labels)\n",
    "            loss.backward()\n",
    "            \n",
    "            optimizer.step()\n",
    "            optimizer.zero_grad()\n",
    "\n",
    "            loss_train += loss.item()\n",
    "            \n",
    "        losses_train.append(loss_train / n_batch_train)\n",
    "            \n",
    "        # Compute validation loss\n",
    "        model.eval()\n",
    "        # Prevent Pytorch from computing and keeping track of gradients\n",
    "        with torch.no_grad():\n",
    "            loss_val = 0.0\n",
    "            for imgs, labels in val_loader:\n",
    "                \n",
    "                imgs = imgs.to(device=device)\n",
    "                labels = labels.to(device=device)\n",
    "\n",
    "                outputs = model(imgs)\n",
    "                loss = loss_fn(outputs, labels)\n",
    "\n",
    "                # The backpropagation and update steps have disappeared!\n",
    "\n",
    "                loss_val += loss.item()\n",
    "                \n",
    "        losses_val.append(loss_val / n_batch_val)\n",
    "\n",
    "        if epoch == 1 or epoch % 1 == 0:\n",
    "            # We can now print the validation loss in addition to the training one\n",
    "            print('{}  |  Epoch {}  |  Training loss {:.5f}  |  Validation loss {:.5f}'.format(\n",
    "                datetime.now().time(), epoch,\n",
    "                loss_train / n_batch_train, loss_val / n_batch_val))\n",
    "            \n",
    "    return (losses_train, losses_val)"
   ]
  },
  {
   "cell_type": "markdown",
   "metadata": {},
   "source": [
    "**TODO**  \n",
    "\n",
    "1. Define a train loader and a validation loader. \n",
    "2. Train 3 different models, i.e.:\n",
    "    1. Instanciate a model using your custom Pytorch modules  \n",
    "    2. Choose an optimizer (and its parameters, e.g the learning rate)  \n",
    "    3. Choose a loss function  (e.g cross-entropy)\n",
    "    4. Train your model and store its training and validation loss\n",
    "\n",
    "**Hints**\n",
    "\n",
    "- Again, you can find some hints in the tutorials\n",
    "- 20 epochs or even a bit less are enough if your computer is a bit slow\n",
    "- If you defined only 2 modules in section 3, you can also play with the learning rate "
   ]
  },
  {
   "cell_type": "code",
   "execution_count": 9,
   "metadata": {},
   "outputs": [
    {
     "name": "stdout",
     "output_type": "stream",
     "text": [
      "Training on device cpu.\n",
      "14:29:14.979422  |  Epoch 1  |  Training loss 0.45565  |  Validation loss 0.26748\n",
      "14:29:26.945379  |  Epoch 2  |  Training loss 0.23881  |  Validation loss 0.20466\n",
      "14:29:37.745277  |  Epoch 3  |  Training loss 0.18935  |  Validation loss 0.17954\n",
      "14:29:48.993503  |  Epoch 4  |  Training loss 0.15790  |  Validation loss 0.15032\n",
      "14:29:59.289656  |  Epoch 5  |  Training loss 0.13556  |  Validation loss 0.13862\n",
      "14:30:11.419801  |  Epoch 6  |  Training loss 0.11940  |  Validation loss 0.12885\n",
      "14:30:23.487873  |  Epoch 7  |  Training loss 0.10682  |  Validation loss 0.11938\n",
      "14:30:34.426093  |  Epoch 8  |  Training loss 0.09676  |  Validation loss 0.11790\n",
      "14:30:45.510723  |  Epoch 9  |  Training loss 0.08864  |  Validation loss 0.11438\n",
      "14:30:55.865924  |  Epoch 10  |  Training loss 0.08177  |  Validation loss 0.10551\n",
      "14:31:06.784833  |  Epoch 11  |  Training loss 0.07546  |  Validation loss 0.10298\n",
      "14:31:17.901560  |  Epoch 12  |  Training loss 0.07010  |  Validation loss 0.10103\n",
      "14:31:28.410838  |  Epoch 13  |  Training loss 0.06583  |  Validation loss 0.09589\n",
      "14:31:42.464162  |  Epoch 14  |  Training loss 0.06165  |  Validation loss 0.09741\n",
      "14:31:55.101778  |  Epoch 15  |  Training loss 0.05746  |  Validation loss 0.09392\n",
      "14:32:06.563431  |  Epoch 16  |  Training loss 0.05418  |  Validation loss 0.09159\n",
      "14:32:18.627469  |  Epoch 17  |  Training loss 0.05105  |  Validation loss 0.09064\n",
      "14:32:31.114702  |  Epoch 18  |  Training loss 0.04813  |  Validation loss 0.09391\n",
      "14:32:42.974047  |  Epoch 19  |  Training loss 0.04556  |  Validation loss 0.08787\n",
      "14:32:54.010804  |  Epoch 20  |  Training loss 0.04280  |  Validation loss 0.09031\n"
     ]
    }
   ],
   "source": [
    "device = (\n",
    "    torch.device('cuda') if torch.cuda.is_available()\n",
    "    else torch.device('cpu'))\n",
    "\n",
    "n_epochs = 20\n",
    "batch_size = 256\n",
    "\n",
    "train_loader = torch.utils.data.DataLoader(data_train, batch_size=batch_size, shuffle=True)\n",
    "val_loader = torch.utils.data.DataLoader(data_val, batch_size=batch_size, shuffle=True)\n",
    "\n",
    "models = []\n",
    "model_names = []\n",
    "losses_train = []\n",
    "losses_val = []\n",
    "\n",
    "model = MyNet01().to(device=device) \n",
    "optimizer = optim.SGD(model.parameters(), lr=1e-1)\n",
    "loss_fn = nn.CrossEntropyLoss()\n",
    "\n",
    "loss_train, loss_val = train(\n",
    "    n_epochs = n_epochs,\n",
    "    optimizer = optimizer,\n",
    "    model = model,\n",
    "    loss_fn = loss_fn,\n",
    "    train_loader = train_loader,\n",
    "    val_loader = val_loader,\n",
    "    device = device,\n",
    ")\n",
    "\n",
    "models.append(model)\n",
    "model_names.append('MyNet01, lr=0.1')\n",
    "losses_train.append(loss_train)\n",
    "losses_val.append(loss_val)\n"
   ]
  },
  {
   "cell_type": "code",
   "execution_count": 10,
   "metadata": {},
   "outputs": [
    {
     "name": "stdout",
     "output_type": "stream",
     "text": [
      "Training on device cpu.\n",
      "14:33:06.074267  |  Epoch 1  |  Training loss 0.56117  |  Validation loss 0.34841\n",
      "14:33:17.103609  |  Epoch 2  |  Training loss 0.32352  |  Validation loss 0.29517\n",
      "14:33:27.864265  |  Epoch 3  |  Training loss 0.28972  |  Validation loss 0.27856\n",
      "14:33:39.052454  |  Epoch 4  |  Training loss 0.26985  |  Validation loss 0.25280\n",
      "14:33:51.070010  |  Epoch 5  |  Training loss 0.25603  |  Validation loss 0.25331\n",
      "14:34:05.014420  |  Epoch 6  |  Training loss 0.24586  |  Validation loss 0.23893\n",
      "14:34:16.767499  |  Epoch 7  |  Training loss 0.23793  |  Validation loss 0.22958\n",
      "14:34:27.986762  |  Epoch 8  |  Training loss 0.23108  |  Validation loss 0.22681\n",
      "14:34:42.921686  |  Epoch 9  |  Training loss 0.22612  |  Validation loss 0.22149\n",
      "14:34:54.298993  |  Epoch 10  |  Training loss 0.22146  |  Validation loss 0.21887\n",
      "14:35:07.711699  |  Epoch 11  |  Training loss 0.21886  |  Validation loss 0.21434\n",
      "14:35:19.780553  |  Epoch 12  |  Training loss 0.21529  |  Validation loss 0.21168\n",
      "14:35:30.921003  |  Epoch 13  |  Training loss 0.21317  |  Validation loss 0.21254\n",
      "14:35:41.293714  |  Epoch 14  |  Training loss 0.20984  |  Validation loss 0.20741\n",
      "14:35:52.065281  |  Epoch 15  |  Training loss 0.20837  |  Validation loss 0.20605\n",
      "14:36:02.604028  |  Epoch 16  |  Training loss 0.20666  |  Validation loss 0.20621\n",
      "14:36:13.493856  |  Epoch 17  |  Training loss 0.20461  |  Validation loss 0.20539\n",
      "14:36:24.088790  |  Epoch 18  |  Training loss 0.20357  |  Validation loss 0.20308\n",
      "14:36:35.109203  |  Epoch 19  |  Training loss 0.20245  |  Validation loss 0.20020\n",
      "14:36:46.212355  |  Epoch 20  |  Training loss 0.20105  |  Validation loss 0.19857\n"
     ]
    }
   ],
   "source": [
    "model = MyNet02().to(device=device) \n",
    "optimizer = optim.SGD(model.parameters(), lr=1e-1, weight_decay=0.01)\n",
    "loss_fn = nn.CrossEntropyLoss()\n",
    "\n",
    "loss_train, loss_val = train(\n",
    "    n_epochs = n_epochs,\n",
    "    optimizer = optimizer,\n",
    "    model = model,\n",
    "    loss_fn = loss_fn,\n",
    "    train_loader = train_loader,\n",
    "    val_loader = val_loader,\n",
    "    device = device,\n",
    ")\n",
    "\n",
    "models.append(model)\n",
    "model_names.append('MyNet02, lr=0.1')\n",
    "losses_train.append(loss_train)\n",
    "losses_val.append(loss_val)"
   ]
  },
  {
   "cell_type": "code",
   "execution_count": 11,
   "metadata": {},
   "outputs": [
    {
     "name": "stdout",
     "output_type": "stream",
     "text": [
      "Training on device cpu.\n",
      "14:36:57.929740  |  Epoch 1  |  Training loss 1.52113  |  Validation loss 0.89669\n",
      "14:37:10.033516  |  Epoch 2  |  Training loss 0.70140  |  Validation loss 0.56204\n",
      "14:37:22.400584  |  Epoch 3  |  Training loss 0.51371  |  Validation loss 0.45544\n",
      "14:37:34.345077  |  Epoch 4  |  Training loss 0.44236  |  Validation loss 0.40726\n",
      "14:37:45.929110  |  Epoch 5  |  Training loss 0.40347  |  Validation loss 0.37985\n",
      "14:37:57.425613  |  Epoch 6  |  Training loss 0.37821  |  Validation loss 0.35531\n",
      "14:38:10.424974  |  Epoch 7  |  Training loss 0.35970  |  Validation loss 0.34183\n",
      "14:38:23.129599  |  Epoch 8  |  Training loss 0.34506  |  Validation loss 0.33173\n",
      "14:38:35.079395  |  Epoch 9  |  Training loss 0.33305  |  Validation loss 0.32224\n",
      "14:38:46.489431  |  Epoch 10  |  Training loss 0.32280  |  Validation loss 0.30743\n",
      "14:38:57.642407  |  Epoch 11  |  Training loss 0.31359  |  Validation loss 0.30053\n",
      "14:39:08.851284  |  Epoch 12  |  Training loss 0.30536  |  Validation loss 0.29504\n",
      "14:39:22.771656  |  Epoch 13  |  Training loss 0.29801  |  Validation loss 0.28809\n",
      "14:39:35.409040  |  Epoch 14  |  Training loss 0.29117  |  Validation loss 0.28406\n",
      "14:39:46.656429  |  Epoch 15  |  Training loss 0.28480  |  Validation loss 0.27771\n",
      "14:39:57.793485  |  Epoch 16  |  Training loss 0.27904  |  Validation loss 0.27068\n",
      "14:40:08.507491  |  Epoch 17  |  Training loss 0.27358  |  Validation loss 0.26658\n",
      "14:40:22.381238  |  Epoch 18  |  Training loss 0.26841  |  Validation loss 0.26443\n",
      "14:40:34.893165  |  Epoch 19  |  Training loss 0.26363  |  Validation loss 0.25963\n",
      "14:40:49.609040  |  Epoch 20  |  Training loss 0.25897  |  Validation loss 0.25221\n"
     ]
    }
   ],
   "source": [
    "model = MyNet02().to(device=device) \n",
    "optimizer = optim.SGD(model.parameters(), lr=0.01)\n",
    "loss_fn = nn.CrossEntropyLoss()\n",
    "\n",
    "loss_train, loss_val = train(\n",
    "    n_epochs = n_epochs,\n",
    "    optimizer = optimizer,\n",
    "    model = model,\n",
    "    loss_fn = loss_fn,\n",
    "    train_loader = train_loader,\n",
    "    val_loader = val_loader,\n",
    "    device = device,\n",
    ")\n",
    "\n",
    "models.append(model)\n",
    "model_names.append('MyNet02, lr=0.01')\n",
    "losses_train.append(loss_train)\n",
    "losses_val.append(loss_val)"
   ]
  },
  {
   "cell_type": "markdown",
   "metadata": {},
   "source": [
    "#### Ploting the evolution of the training loss and the validation loss during the training\n",
    "\n",
    "**TODO**\n",
    "\n",
    "For each of your 3 models, plot the training loss and the validation loss. You can adapt the code in the cell below to plot your curves."
   ]
  },
  {
   "cell_type": "code",
   "execution_count": 12,
   "metadata": {},
   "outputs": [
    {
     "data": {
      "text/plain": [
       "<matplotlib.legend.Legend at 0x7fcd2ad40b50>"
      ]
     },
     "execution_count": 12,
     "metadata": {},
     "output_type": "execute_result"
    },
    {
     "data": {
      "image/png": "[encoded data removed]",
      "text/plain": [
       "<Figure size 640x480 with 1 Axes>"
      ]
     },
     "metadata": {},
     "output_type": "display_data"
    }
   ],
   "source": [
    "xvalues = np.linspace(0, 20, 1000)\n",
    "yvalues01 = np.cos(xvalues)\n",
    "yvalues02 = np.sin(xvalues)\n",
    "\n",
    "fig, ax = plt.subplots()\n",
    "\n",
    "# Plot cosine and specify its legend label\n",
    "ax.plot(xvalues, yvalues01, label='cosine')\n",
    "# Plot sine and specify its legend label\n",
    "ax.plot(xvalues, yvalues02, label='sine')\n",
    "ax.set_title('Cosine and Sine')\n",
    "ax.set_xlabel('x label')\n",
    "ax.set_ylabel('y label')\n",
    "# Show legend\n",
    "ax.legend()"
   ]
  },
  {
   "cell_type": "code",
   "execution_count": 13,
   "metadata": {},
   "outputs": [
    {
     "data": {
      "image/png": "[encoded data removed]",
      "text/plain": [
       "<Figure size 2100x500 with 3 Axes>"
      ]
     },
     "metadata": {},
     "output_type": "display_data"
    }
   ],
   "source": [
    "n_model = len(models)\n",
    "\n",
    "fig, axes = plt.subplots(1, n_model, figsize=(7*n_model, 5), sharey=True)\n",
    "\n",
    "for l_train, l_val, name, ax in zip(losses_train, losses_val, model_names, axes.flat):\n",
    "\n",
    "    ax.plot(l_train, label='train')\n",
    "    ax.plot(l_val, label='validation')\n",
    "    ax.set_title(name)\n",
    "    ax.set_xlabel('Epochs')\n",
    "    ax.set_ylabel('Cross Entropy Loss')\n",
    "    ax.legend()\n",
    "\n",
    "plt.show()"
   ]
  },
  {
   "cell_type": "markdown",
   "metadata": {},
   "source": [
    "## 5. Model selection\n",
    "\n",
    "1. Write a function ``compute_accuracy`` that computes the accuracy of a given model on a given dataset. You can find all you need in the tutorials.\n",
    "2. Select your best model, that is to say:\n",
    "    1. For each model, compute the accuracy on the validation dataset\n",
    "    2. Choose the model with the highest accuracy\n",
    "3. Print the training and the validation accuracies of your selected model"
   ]
  },
  {
   "cell_type": "code",
   "execution_count": 14,
   "metadata": {},
   "outputs": [
    {
     "name": "stdout",
     "output_type": "stream",
     "text": [
      "Accuracy: 0.9732\n",
      "Accuracy: 0.9465\n",
      "Accuracy: 0.9240\n",
      "\n",
      "The best model is  MyNet01, lr=0.1\n",
      "Training accuracy of the best model: \n",
      "Accuracy: 0.9899\n",
      "Validation accuracy of the best model: \n",
      "Accuracy: 0.9732\n"
     ]
    },
    {
     "data": {
      "text/plain": [
       "0.9731666666666666"
      ]
     },
     "execution_count": 14,
     "metadata": {},
     "output_type": "execute_result"
    }
   ],
   "source": [
    "def compute_accuracy(model, loader):\n",
    "    model.eval()\n",
    "    correct = 0\n",
    "    total = 0\n",
    "\n",
    "    with torch.no_grad():\n",
    "        for imgs, labels in loader:\n",
    "            imgs = imgs.to(device=device)\n",
    "            labels = labels.to(device=device)\n",
    "\n",
    "            outputs = model(imgs)\n",
    "            _, predicted = torch.max(outputs, dim=1)\n",
    "            total += labels.shape[0]\n",
    "            correct += int((predicted == labels).sum())\n",
    "\n",
    "    acc =  correct / total\n",
    "    print(\"Accuracy: {:.4f}\".format(acc))\n",
    "    return acc\n",
    "\n",
    "train_loader = torch.utils.data.DataLoader(data_train, batch_size=batch_size, shuffle=False)\n",
    "val_loader = torch.utils.data.DataLoader(data_val, batch_size=batch_size, shuffle=False)\n",
    "\n",
    "accuracies = []\n",
    "\n",
    "for model in models:\n",
    "    accuracies.append(compute_accuracy(model, val_loader))\n",
    "    \n",
    "i_best_model = np.argmax(accuracies)\n",
    "best_model = models[i_best_model]\n",
    "print(\"\\nThe best model is \", model_names[i_best_model])\n",
    "\n",
    "\n",
    "print(\"Training accuracy of the best model: \")\n",
    "compute_accuracy(best_model, train_loader)\n",
    "print(\"Validation accuracy of the best model: \")\n",
    "compute_accuracy(best_model, val_loader)"
   ]
  },
  {
   "cell_type": "markdown",
   "metadata": {},
   "source": [
    "## 6. Model evaluation\n",
    "\n",
    "**TODO**\n",
    "\n",
    "1. Evaluate your selected model, that is to say, compute and print the accuracy of your selected model on the test dataset"
   ]
  },
  {
   "cell_type": "code",
   "execution_count": 15,
   "metadata": {},
   "outputs": [
    {
     "name": "stdout",
     "output_type": "stream",
     "text": [
      "Test accuracy of the best model: \n",
      "Accuracy: 0.9732\n"
     ]
    },
    {
     "data": {
      "text/plain": [
       "0.9732"
      ]
     },
     "execution_count": 15,
     "metadata": {},
     "output_type": "execute_result"
    }
   ],
   "source": [
    "test_loader = torch.utils.data.DataLoader(data_test, batch_size=batch_size, shuffle=False)\n",
    "\n",
    "print(\"Test accuracy of the best model: \")\n",
    "compute_accuracy(best_model, test_loader)"
   ]
  }
 ],
 "metadata": {
  "kernelspec": {
   "display_name": "inf265",
   "language": "python",
   "name": "python3"
  },
  "language_info": {
   "codemirror_mode": {
    "name": "ipython",
    "version": 3
   },
   "file_extension": ".py",
   "mimetype": "text/x-python",
   "name": "python",
   "nbconvert_exporter": "python",
   "pygments_lexer": "ipython3",
   "version": "3.10.9"
  },
  "orig_nbformat": 4,
  "vscode": {
   "interpreter": {
    "hash": "d7334498cbea74be2f983349dd0c062cc89e10cb2d32c736100e0abee6e40bc2"
   }
  }
 },
 "nbformat": 4,
 "nbformat_minor": 2
}
