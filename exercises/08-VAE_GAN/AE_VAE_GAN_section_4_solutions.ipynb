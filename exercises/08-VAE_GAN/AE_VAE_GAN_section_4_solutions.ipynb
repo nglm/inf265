{
 "cells": [
  {
   "cell_type": "code",
   "execution_count": 1,
   "metadata": {},
   "outputs": [
    {
     "name": "stdout",
     "output_type": "stream",
     "text": [
      "Training on device cuda.\n"
     ]
    }
   ],
   "source": [
    "import torch\n",
    "from torch.utils.data import DataLoader\n",
    "import torch.nn.functional as F\n",
    "import torch.nn as nn\n",
    "import torch.optim as optim\n",
    "from matplotlib import pyplot as plt\n",
    "from datetime import datetime\n",
    "from utils import *\n",
    "\n",
    "seed = 265\n",
    "torch.manual_seed(seed)\n",
    "device = (torch.device('cuda') if torch.cuda.is_available() else torch.device('cpu'))\n",
    "print(f\"Training on device {device}.\")"
   ]
  },
  {
   "cell_type": "markdown",
   "metadata": {},
   "source": [
    "# Introduction\n",
    "\n",
    "In this assignment we will go through 3 types of unsupervised neural network: AutoEncoder (AE), Variational AutoEncoder (VAE) and Generative Adversarial Network (GAN). In the first section we will also introduce a new type of layer: the transpose convolution as it is widely used in these unsupervised methods.\n",
    "\n",
    "Unsupervised have many advantages including the fact that they don't need labels but they are also harder to train. It is normal if you don't get good results.\n",
    "\n",
    "## Contents\n",
    "\n",
    "1. Transpose convolution\n",
    "2. AutoEncoder\n",
    "3. Variational AutoEncoder\n",
    "4. GAN\n",
    "\n",
    "## Related videos from the curriculum\n",
    "\n",
    "- [Lecture 15.1 — From PCA to autoencoders](https://www.youtube.com/watch?v=PSOt7u8u23w&list=PLLssT5z_DsK_gyrQ_biidwvPYCRNGI3iv&index=69)\n",
    "- [Lecture 15.2 — Deep autoencoders](https://www.youtube.com/watch?v=6jhhIPdgkp0&list=PLLssT5z_DsK_gyrQ_biidwvPYCRNGI3iv&index=70) \n",
    "- [Lecture 15.3 — Deep autoencoders for document retrieval](https://www.youtube.com/watch?v=ZCNbjpcX0yg&list=PLLssT5z_DsK_gyrQ_biidwvPYCRNGI3iv&index=71)\n",
    "- [Lecture 15.6 — Shallow autoencoders for pre training](https://www.youtube.com/watch?v=xjlvVfEbhz4&list=PLLssT5z_DsK_gyrQ_biidwvPYCRNGI3iv&index=74)\n",
    "- [Lecture 13 | Generative Models](https://www.youtube.com/watch?v=5WoItGTWV54)\n",
    "\n",
    "\n",
    "## 4. GAN\n",
    "\n",
    "## Related videos from the curriculum\n",
    "\n",
    "- [Lecture 13 | Generative Models](https://www.youtube.com/watch?v=5WoItGTWV54) (From 50:00 to 1:17:00)"
   ]
  },
  {
   "cell_type": "code",
   "execution_count": 2,
   "metadata": {},
   "outputs": [
    {
     "name": "stdout",
     "output_type": "stream",
     "text": [
      "Size of the training dataset:  5522\n",
      "Size of the validation dataset:  609\n",
      "Size of the test dataset:  1010\n"
     ]
    }
   ],
   "source": [
    "data_train, _, _ = load_MNIST(label_list=[3])"
   ]
  },
  {
   "cell_type": "code",
   "execution_count": 3,
   "metadata": {},
   "outputs": [],
   "source": [
    "# Data too complex...\n",
    "imgs_train = [F.max_pool2d(img,2) for img, _ in data_train]"
   ]
  },
  {
   "cell_type": "markdown",
   "metadata": {},
   "source": [
    "### Defining a discriminator and a generator"
   ]
  },
  {
   "cell_type": "code",
   "execution_count": null,
   "metadata": {},
   "outputs": [],
   "source": [
    "class MyDiscriminator(nn.Module):\n",
    "    \"\"\"\n",
    "    Distinguish between fake (0) and real (1) images.\n",
    "    \n",
    "    It takes as input 10x10 black and white images and return a float\n",
    "    determining (hopefully correctly) if images are real (1) or fake (0)\n",
    "    \"\"\"\n",
    "\n",
    "    def __init__(self):\n",
    "        super().__init__() \n",
    "        self.fc1 = nn.Linear(in_features=10*10, out_features=64)\n",
    "        self.fc2 = nn.Linear(in_features=64, out_features=32)\n",
    "        self.fc3 = nn.Linear(in_features=32, out_features=1)\n",
    "        \n",
    "    def forward(self, x):\n",
    "        N = x.shape[0]\n",
    "        out = x.view(N, -1)\n",
    "        out = F.leaky_relu(self.fc1(out), 2)\n",
    "        out = F.leaky_relu(self.fc2(out), 2)\n",
    "        out = torch.sigmoid(self.fc3(out))\n",
    "        return out\n",
    "\n",
    "class MyGenerator(nn.Module):\n",
    "    \"\"\"\n",
    "    Generate fake images that look real from random noise\n",
    "    \n",
    "    It takes as input random normal noise (vectors of dimension z_dim) \n",
    "    and it returns a 10x10 black and white generated images (0) that will \n",
    "    hopefully be classified as real (1) by the discriminator. (So we hope that\n",
    "    the discriminator will misclassify these generated images)\n",
    "    \"\"\"\n",
    "\n",
    "    def __init__(self, z_dim):\n",
    "        super().__init__() \n",
    "        self.fc1 = nn.Linear(z_dim, 5*5)\n",
    "        self.transconv1 = nn.ConvTranspose2d(in_channels=1, out_channels=10,  kernel_size=3, stride=1)\n",
    "        self.transconv2 = nn.ConvTranspose2d(in_channels=10, out_channels=1,  kernel_size=4, stride=1)\n",
    "        \n",
    "    def forward(self, x):\n",
    "        N, z_dim = x.shape\n",
    "        out = F.leaky_relu(self.fc1(x))\n",
    "        out = out.view(N, 1, 5, 5)\n",
    "        out = F.leaky_relu(self.transconv1(out))\n",
    "        out = torch.sigmoid(self.transconv2(out))\n",
    "        return out\n"
   ]
  },
  {
   "cell_type": "markdown",
   "metadata": {},
   "source": [
    "### Training functions\n",
    "\n",
    "At each iteration of the training loop of a GAN, we need to update both the discriminator and the generator. To do so, we can define 2 auxiliary functions\n",
    "``train_discriminator_aux`` and ``train_generator_aux`` that will be called in the main training loop ``training_gan``.\n",
    "\n",
    "#### Training the discriminator\n",
    "\n",
    "The training step for the discriminator can be divided into 4 steps:\n",
    "1. Compute classification loss on real images\n",
    "2. Generate fake images\n",
    "3. Compute classification loss on generated images\n",
    "4. Update step for the discriminator\n",
    "\n",
    "The discriminator loss is then the sum of 2 terms:\n",
    "- the loss on real images, computed by classifying a batch of real images\n",
    "- the loss on fake images, computed by classifying a batch of fake images, generated by the generator\n",
    "\n",
    "\n",
    "#### Training the generator\n",
    "\n",
    "The training step for the discriminator can be divided into 3 steps:\n",
    "1. Generate fake images\n",
    "2. Compute (mis)classification loss on generated images\n",
    "3. Update step for the generator\n",
    "\n",
    "--------------------\n",
    "## TODO\n",
    "\n",
    "Complete the 3 functions below"
   ]
  },
  {
   "cell_type": "code",
   "execution_count": 4,
   "metadata": {},
   "outputs": [],
   "source": [
    "def train_discriminator_aux(true_images, generator, discriminator, optimizer_d, loss, z_dim, device=None):\n",
    "    \"\"\"\n",
    "    Update step for the discriminator\n",
    "    \n",
    "    The discriminator loss is the sum of 2 terms:\n",
    "    - the loss on real images, computed by classifying a batch of real images\n",
    "    - the loss on fake images, computed by classifying a batch of fake images, \n",
    "    generated by the generator\n",
    "    \"\"\"\n",
    "    discriminator.train()\n",
    "    N = true_images.shape[0]\n",
    "\n",
    "    # The grad might not be clean because of the train_generator_aux function\n",
    "    optimizer_d.zero_grad()\n",
    "\n",
    "    # ----------- Compute classification loss on real images -----------\n",
    "    \n",
    "    # Let the discriminator classify the real images\n",
    "    true_preds = discriminator(true_images)\n",
    "    # The targets are \"ones\" because the images are real\n",
    "    true_targets = torch.ones(N, 1, device=device)\n",
    "    # Compute discriminator loss on true images:\n",
    "    # \"how well the discriminator classifies *real* images as *real*\"\n",
    "    true_loss = F.binary_cross_entropy(true_preds, true_targets)\n",
    "    true_score = torch.mean(true_preds)\n",
    "    \n",
    "    # ------------------- Generate fake images -------------------------\n",
    "    \n",
    "    # Generate a batch of normal noise, of dimension z_dim\n",
    "    z = torch.randn(N, z_dim, device=device)\n",
    "    # Use the generator to generate fake images from noise\n",
    "    generator.eval()\n",
    "    generated_images = generator(z)\n",
    "    \n",
    "    # ------- Compute classification loss on generated images ----------\n",
    "    \n",
    "    # Let the discriminator classify the real images\n",
    "    generated_preds = discriminator(generated_images)\n",
    "    # The targets are \"zeros\" because the images are fake\n",
    "    generated_targets = torch.zeros(N, 1, device=device)\n",
    "    # Compute discriminator loss on fake images:\n",
    "    # \"how well the discriminator classifies *fake* images as *fake*\"\n",
    "    generated_loss = loss(generated_preds, generated_targets)\n",
    "    generated_score = torch.mean(1-generated_preds)\n",
    "\n",
    "    # --------------- Update step for the discriminator ----------------\n",
    "    loss_d = true_loss + generated_loss\n",
    "    loss_d.backward()\n",
    "    optimizer_d.step()\n",
    "    optimizer_d.zero_grad()\n",
    "\n",
    "    return loss_d, true_score, generated_score\n",
    "\n",
    "def train_generator_aux(generator, discriminator, optimizer_g, loss, z_dim, N=256, device=None): \n",
    "    \"\"\"\n",
    "    Update step for the generator.\n",
    "    \n",
    "    The generator loss function is computed by classifying a batch of fake \n",
    "    images but using 1 (real) as target. The objective is then to minimize\n",
    "    the number of fake images correctly classified as fake by the discriminator.\n",
    "    \"\"\"\n",
    "    generator.train()\n",
    "    # The grad might not be clean because of the train_discriminator_aux function\n",
    "    optimizer_g.zero_grad()\n",
    "    \n",
    "    # ------------------- Generate fake images -------------------------\n",
    "    \n",
    "    # Generate a batch of normal noise, of dimension z_dim\n",
    "    z = torch.randn(N, z_dim, device=device)\n",
    "    # Use the generator to generate fake images from noise\n",
    "    generated_images = generator(z)\n",
    "    \n",
    "    # ----- Compute (mis)classification loss on generated images -------\n",
    "    \n",
    "    discriminator.eval()\n",
    "    # Let the discriminator (mis)classify the fake images\n",
    "    preds = discriminator(generated_images)\n",
    "    # The label is 0 (generated) but we want the discriminator to say 1\n",
    "    targets = torch.ones(N, 1, device=device)\n",
    "    # Compute generator loss on fake images:\n",
    "    # \"how well the generator fools the discriminator\"\n",
    "    # in other words \"how well the generator makes the discriminator\n",
    "    # misclassify fake images as true images\"\n",
    "    loss_g = loss(preds, targets)\n",
    "    \n",
    "    # ------------------ Update step for the generator -----------------\n",
    "    \n",
    "    loss_g.backward()\n",
    "    optimizer_g.step()\n",
    "    optimizer_g.zero_grad()\n",
    "    \n",
    "    return loss_g\n",
    "\n",
    "def training_gan(z_dim, n_epochs, optimizer_g, optimizer_d, generator, discriminator, loss, train_loader, device=None):\n",
    "    \"\"\"\n",
    "    Training loop that updates the discriminator and the generator at each iteration\n",
    "    \"\"\"\n",
    "    if device is None:\n",
    "        device = (torch.device('cuda') if torch.cuda.is_available() else torch.device('cpu'))\n",
    "\n",
    "    for epoch in range(1,n_epochs+1):\n",
    "\n",
    "        loss_generator = 0.\n",
    "        loss_discriminator = 0.\n",
    "        scores_generated = 0.\n",
    "        scores_true = 0.\n",
    "\n",
    "        for true_images in train_loader:\n",
    "\n",
    "            true_images = true_images.to(device=device)\n",
    "\n",
    "            # Train the discriminator \n",
    "            loss_d, score_true, score_generated = train_discriminator_aux(\n",
    "                true_images, generator, discriminator, optimizer_d, loss, z_dim, device=device\n",
    "            )\n",
    "            \n",
    "            # Train the generator\n",
    "            loss_g = train_generator_aux(\n",
    "                generator, discriminator, optimizer_g, loss, z_dim, N=2048, device=device\n",
    "            )\n",
    "\n",
    "            loss_discriminator += loss_d\n",
    "            loss_generator += loss_g\n",
    "            scores_generated += score_generated\n",
    "            scores_true += score_true\n",
    "            \n",
    "        if epoch % 10 == 0:\n",
    "            print('{}  |  Epoch {}\\nGenerator loss {:.4f}  |  Discriminator loss {:.4f}  |  Score true {:.4f}  |  Score generated {:.4f}'.format(\n",
    "                datetime.now().strftime(\"%H:%M:%S\"), \n",
    "                epoch,\n",
    "                loss_generator / (len(train_loader)),\n",
    "                loss_discriminator / len(train_loader),\n",
    "                scores_true / len(train_loader),\n",
    "                scores_generated / len(train_loader),\n",
    "            ))"
   ]
  },
  {
   "cell_type": "markdown",
   "metadata": {},
   "source": [
    "### Training your GAN\n",
    "\n",
    "Run the cell below to train your GAN.\n",
    "Keep in mind that training unsupervised model is not easy and that it is okay in this assignment if you don't get good results at all."
   ]
  },
  {
   "cell_type": "code",
   "execution_count": 5,
   "metadata": {
    "scrolled": false,
    "tags": []
   },
   "outputs": [
    {
     "name": "stdout",
     "output_type": "stream",
     "text": [
      "11:32:22  |  Epoch 10\n",
      "Generator loss 1.0840  |  Discriminator loss 0.8056  |  Score true 0.7016  |  Score generated 0.6535\n",
      "11:32:22  |  Epoch 20\n",
      "Generator loss 1.1269  |  Discriminator loss 0.8809  |  Score true 0.6676  |  Score generated 0.6662\n",
      "11:32:23  |  Epoch 30\n",
      "Generator loss 1.2012  |  Discriminator loss 0.6042  |  Score true 0.8442  |  Score generated 0.6751\n",
      "11:32:23  |  Epoch 40\n",
      "Generator loss 1.7490  |  Discriminator loss 0.6611  |  Score true 0.7322  |  Score generated 0.7816\n",
      "11:32:24  |  Epoch 50\n",
      "Generator loss 0.9063  |  Discriminator loss 0.9108  |  Score true 0.7740  |  Score generated 0.5713\n",
      "11:32:24  |  Epoch 60\n",
      "Generator loss 1.1428  |  Discriminator loss 1.0069  |  Score true 0.6729  |  Score generated 0.6290\n",
      "11:32:25  |  Epoch 70\n",
      "Generator loss 1.4644  |  Discriminator loss 0.8213  |  Score true 0.7135  |  Score generated 0.7073\n",
      "11:32:25  |  Epoch 80\n",
      "Generator loss 1.8191  |  Discriminator loss 0.7062  |  Score true 0.7365  |  Score generated 0.7996\n",
      "11:32:26  |  Epoch 90\n",
      "Generator loss 0.7745  |  Discriminator loss 1.6035  |  Score true 0.5756  |  Score generated 0.4812\n",
      "11:32:26  |  Epoch 100\n",
      "Generator loss 0.8953  |  Discriminator loss 1.5571  |  Score true 0.4626  |  Score generated 0.5482\n",
      "11:32:27  |  Epoch 110\n",
      "Generator loss 1.8424  |  Discriminator loss 0.5842  |  Score true 0.7442  |  Score generated 0.8177\n",
      "11:32:28  |  Epoch 120\n",
      "Generator loss 0.8861  |  Discriminator loss 1.5418  |  Score true 0.5242  |  Score generated 0.5497\n",
      "11:32:28  |  Epoch 130\n",
      "Generator loss 1.0836  |  Discriminator loss 1.0023  |  Score true 0.6507  |  Score generated 0.6309\n",
      "11:32:29  |  Epoch 140\n",
      "Generator loss 1.1370  |  Discriminator loss 1.0344  |  Score true 0.5925  |  Score generated 0.6596\n",
      "11:32:29  |  Epoch 150\n",
      "Generator loss 1.1690  |  Discriminator loss 0.9632  |  Score true 0.6386  |  Score generated 0.6632\n",
      "11:32:30  |  Epoch 160\n",
      "Generator loss 1.1288  |  Discriminator loss 0.9286  |  Score true 0.6884  |  Score generated 0.6398\n",
      "11:32:30  |  Epoch 170\n",
      "Generator loss 1.2795  |  Discriminator loss 0.9250  |  Score true 0.6475  |  Score generated 0.6812\n",
      "11:32:31  |  Epoch 180\n",
      "Generator loss 1.2117  |  Discriminator loss 0.8518  |  Score true 0.7005  |  Score generated 0.6684\n",
      "11:32:31  |  Epoch 190\n",
      "Generator loss 1.2733  |  Discriminator loss 0.9600  |  Score true 0.6729  |  Score generated 0.6653\n",
      "11:32:32  |  Epoch 200\n",
      "Generator loss 1.2340  |  Discriminator loss 0.9663  |  Score true 0.6641  |  Score generated 0.6632\n",
      "11:32:32  |  Epoch 210\n",
      "Generator loss 1.5013  |  Discriminator loss 0.7604  |  Score true 0.7214  |  Score generated 0.7288\n",
      "11:32:33  |  Epoch 220\n",
      "Generator loss 1.3104  |  Discriminator loss 0.8642  |  Score true 0.7085  |  Score generated 0.6823\n",
      "11:32:33  |  Epoch 230\n",
      "Generator loss 1.4352  |  Discriminator loss 0.7967  |  Score true 0.7056  |  Score generated 0.7278\n",
      "11:32:34  |  Epoch 240\n",
      "Generator loss 1.4668  |  Discriminator loss 0.7950  |  Score true 0.7364  |  Score generated 0.7139\n",
      "11:32:35  |  Epoch 250\n",
      "Generator loss 1.3119  |  Discriminator loss 0.8970  |  Score true 0.6917  |  Score generated 0.6859\n",
      "11:32:35  |  Epoch 260\n",
      "Generator loss 1.6174  |  Discriminator loss 0.7261  |  Score true 0.7429  |  Score generated 0.7461\n",
      "11:32:36  |  Epoch 270\n",
      "Generator loss 1.4415  |  Discriminator loss 0.7658  |  Score true 0.7437  |  Score generated 0.7104\n",
      "11:32:36  |  Epoch 280\n",
      "Generator loss 1.7380  |  Discriminator loss 0.6332  |  Score true 0.7636  |  Score generated 0.7760\n",
      "11:32:37  |  Epoch 290\n",
      "Generator loss 1.7884  |  Discriminator loss 0.6094  |  Score true 0.7730  |  Score generated 0.7828\n",
      "11:32:38  |  Epoch 300\n",
      "Generator loss 1.8703  |  Discriminator loss 0.5458  |  Score true 0.7979  |  Score generated 0.8008\n",
      "11:32:38  |  Epoch 310\n",
      "Generator loss 1.7781  |  Discriminator loss 0.6660  |  Score true 0.7487  |  Score generated 0.7830\n",
      "11:32:39  |  Epoch 320\n",
      "Generator loss 1.7052  |  Discriminator loss 0.6253  |  Score true 0.7849  |  Score generated 0.7653\n",
      "11:32:39  |  Epoch 330\n",
      "Generator loss 1.9130  |  Discriminator loss 0.6622  |  Score true 0.7555  |  Score generated 0.7993\n",
      "11:32:40  |  Epoch 340\n",
      "Generator loss 1.6636  |  Discriminator loss 0.6001  |  Score true 0.7901  |  Score generated 0.7664\n",
      "11:32:40  |  Epoch 350\n",
      "Generator loss 1.8886  |  Discriminator loss 0.5997  |  Score true 0.7712  |  Score generated 0.8039\n",
      "11:32:41  |  Epoch 360\n",
      "Generator loss 1.7171  |  Discriminator loss 0.5613  |  Score true 0.8069  |  Score generated 0.7816\n",
      "11:32:41  |  Epoch 370\n",
      "Generator loss 1.8725  |  Discriminator loss 0.5572  |  Score true 0.7899  |  Score generated 0.8072\n",
      "11:32:42  |  Epoch 380\n",
      "Generator loss 1.9820  |  Discriminator loss 0.5259  |  Score true 0.8126  |  Score generated 0.8075\n",
      "11:32:42  |  Epoch 390\n",
      "Generator loss 2.2296  |  Discriminator loss 0.4770  |  Score true 0.8153  |  Score generated 0.8381\n",
      "11:32:43  |  Epoch 400\n",
      "Generator loss 1.7610  |  Discriminator loss 0.7095  |  Score true 0.7717  |  Score generated 0.7588\n"
     ]
    }
   ],
   "source": [
    "z_dim = 15\n",
    "\n",
    "generator = MyGenerator(z_dim=z_dim)\n",
    "generator.to(device=device)\n",
    "\n",
    "discriminator = MyDiscriminator()\n",
    "discriminator.to(device=device)\n",
    "\n",
    "loss_fn = torch.nn.BCELoss()\n",
    "train_loader_imgs = DataLoader(imgs_train, batch_size=512, shuffle=True)\n",
    "\n",
    "lr_g = 0.001\n",
    "lr_d = 0.0001\n",
    "optimizer_g = optim.Adam(generator.parameters(), lr=lr_g)\n",
    "optimizer_d = optim.Adam(discriminator.parameters(), lr=lr_d)\n",
    "\n",
    "training_gan(\n",
    "    z_dim = z_dim,\n",
    "    n_epochs=400,\n",
    "    optimizer_g=optimizer_g, \n",
    "    optimizer_d=optimizer_d, \n",
    "    generator=generator,\n",
    "    discriminator=discriminator, \n",
    "    loss=loss_fn,\n",
    "    train_loader=train_loader_imgs, \n",
    "    device=device\n",
    ")"
   ]
  },
  {
   "cell_type": "markdown",
   "metadata": {},
   "source": [
    "### Generate images"
   ]
  },
  {
   "cell_type": "code",
   "execution_count": 6,
   "metadata": {},
   "outputs": [
    {
     "data": {
      "image/png": "[encoded data removed]",
      "text/plain": [
       "<Figure size 936x648 with 60 Axes>"
      ]
     },
     "metadata": {
      "needs_background": "light"
     },
     "output_type": "display_data"
    }
   ],
   "source": [
    "generator.eval()\n",
    "generator.cpu()\n",
    "N_img = 6*10\n",
    "\n",
    "fig, axs = plt.subplots(nrows=6, ncols=10, figsize=(13,9), sharex=True, sharey=True)\n",
    "fig.suptitle(\"Generated images\")\n",
    "for i in range(N_img):\n",
    "    with torch.no_grad():\n",
    "        # Generate random noise\n",
    "        a_z = torch.randn(1, z_dim)\n",
    "        # Create fake image from this noise\n",
    "        a_img = generator(a_z)\n",
    "        axs.flat[i].imshow(a_img[0].permute(1, 2, 0), cmap='Greys')\n",
    "        \n",
    "plt.show()"
   ]
  },
  {
   "cell_type": "markdown",
   "metadata": {},
   "source": [
    "### Original images"
   ]
  },
  {
   "cell_type": "code",
   "execution_count": 7,
   "metadata": {},
   "outputs": [
    {
     "data": {
      "image/png": "[encoded data removed]",
      "text/plain": [
       "<Figure size 936x936 with 100 Axes>"
      ]
     },
     "metadata": {
      "needs_background": "light"
     },
     "output_type": "display_data"
    }
   ],
   "source": [
    "fig, axs = plt.subplots(nrows=10, ncols=10, figsize=(13,13), sharex=True, sharey=True)\n",
    "fig.suptitle(\"True images\")\n",
    "for i in range(100):\n",
    "    axs.flat[i].imshow(imgs_train[i].permute(1, 2, 0), cmap='Greys')\n",
    "plt.show()"
   ]
  },
  {
   "cell_type": "markdown",
   "metadata": {},
   "source": [
    "### Example generation\n",
    "![Example of GAN generation (see GAN_generation image)](GAN_generation.png)\n",
    "\n",
    "--------------------\n",
    "## TODO\n",
    "Analyse the results in the image above.\n",
    "\n",
    "1. Comment the behavior of the GAN when generating different digits. Do they seem to have different characteristics (not always the exact same shape)? Do they look like the original images? "
   ]
  }
 ],
 "metadata": {
  "kernelspec": {
   "display_name": "Python 3 (ipykernel)",
   "language": "python",
   "name": "python3"
  },
  "language_info": {
   "codemirror_mode": {
    "name": "ipython",
    "version": 3
   },
   "file_extension": ".py",
   "mimetype": "text/x-python",
   "name": "python",
   "nbconvert_exporter": "python",
   "pygments_lexer": "ipython3",
   "version": "3.8.12"
  },
  "metadata": {
   "interpreter": {
    "hash": "31f2aee4e71d21fbe5cf8b01ff0e069b9275f58929596ceb00d14d90e3e16cd6"
   }
  }
 },
 "nbformat": 4,
 "nbformat_minor": 2
}
